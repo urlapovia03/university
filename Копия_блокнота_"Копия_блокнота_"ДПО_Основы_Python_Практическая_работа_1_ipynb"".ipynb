{
  "nbformat": 4,
  "nbformat_minor": 0,
  "metadata": {
    "colab": {
      "provenance": [],
      "include_colab_link": true
    },
    "kernelspec": {
      "name": "python3",
      "display_name": "Python 3"
    },
    "language_info": {
      "name": "python"
    }
  },
  "cells": [
    {
      "cell_type": "markdown",
      "metadata": {
        "id": "view-in-github",
        "colab_type": "text"
      },
      "source": [
        "<a href=\"https://colab.research.google.com/github/urlapovia03/university/blob/main/%D0%9A%D0%BE%D0%BF%D0%B8%D1%8F_%D0%B1%D0%BB%D0%BE%D0%BA%D0%BD%D0%BE%D1%82%D0%B0_%22%D0%9A%D0%BE%D0%BF%D0%B8%D1%8F_%D0%B1%D0%BB%D0%BE%D0%BA%D0%BD%D0%BE%D1%82%D0%B0_%22%D0%94%D0%9F%D0%9E_%D0%9E%D1%81%D0%BD%D0%BE%D0%B2%D1%8B_Python_%D0%9F%D1%80%D0%B0%D0%BA%D1%82%D0%B8%D1%87%D0%B5%D1%81%D0%BA%D0%B0%D1%8F_%D1%80%D0%B0%D0%B1%D0%BE%D1%82%D0%B0_1_ipynb%22%22.ipynb\" target=\"_parent\"><img src=\"https://colab.research.google.com/assets/colab-badge.svg\" alt=\"Open In Colab\"/></a>"
      ]
    },
    {
      "cell_type": "markdown",
      "source": [
        "# **Практическая работа №1. Введение в Python. Функции ввода-вывода. Основные типы и структуры данных**\n",
        "\n",
        "---\n",
        "\n",
        "\n",
        "\n"
      ],
      "metadata": {
        "id": "wfO8faq6ZSPR"
      }
    },
    {
      "cell_type": "markdown",
      "source": [
        "**Обучающийся:** *[Урлапов Иван Алексеевич]*  \n"
      ],
      "metadata": {
        "id": "s1lvsaUa1kGY"
      }
    },
    {
      "cell_type": "markdown",
      "source": [
        "---"
      ],
      "metadata": {
        "id": "Lmxdci5V1iUz"
      }
    },
    {
      "cell_type": "markdown",
      "source": [
        "## **Блок заданий №1. Функция `print`**\n",
        "\n",
        "\n"
      ],
      "metadata": {
        "id": "APa2xjpZcAkk"
      }
    },
    {
      "cell_type": "markdown",
      "source": [
        "#### 1. Выведите на экран фразу **\"Добро пожаловать в мир Python!\"** с помощью функции `print`.\n"
      ],
      "metadata": {
        "id": "omMWRtIod-k-"
      }
    },
    {
      "cell_type": "code",
      "source": [
        "print('Добро пожаловать в мир Python!')"
      ],
      "metadata": {
        "id": "0R5R1jSwd_FT",
        "outputId": "0b542fe1-6b10-41ff-aa27-1fb45ce6c831",
        "colab": {
          "base_uri": "https://localhost:8080/"
        }
      },
      "execution_count": null,
      "outputs": [
        {
          "output_type": "stream",
          "name": "stdout",
          "text": [
            "Добро пожаловать в мир Python!\n"
          ]
        }
      ]
    },
    {
      "cell_type": "markdown",
      "source": [
        "#### 2. Выведите на экран результат сложения чисел **15** и **27**.\n"
      ],
      "metadata": {
        "id": "A3ysPOjNd70e"
      }
    },
    {
      "cell_type": "code",
      "source": [
        "print(15+27)"
      ],
      "metadata": {
        "id": "5wnr_TY1eCmM",
        "outputId": "ad587212-ab56-44af-a177-7ebd3bbdf261",
        "colab": {
          "base_uri": "https://localhost:8080/"
        }
      },
      "execution_count": null,
      "outputs": [
        {
          "output_type": "stream",
          "name": "stdout",
          "text": [
            "42\n"
          ]
        }
      ]
    },
    {
      "cell_type": "markdown",
      "source": [
        "#### 3. Сохраните свое имя в переменную и выведите его на экран с помощью `print`."
      ],
      "metadata": {
        "id": "RBkgp7Bjd9VL"
      }
    },
    {
      "cell_type": "code",
      "source": [
        "a='Ivan'\n",
        "print(a)"
      ],
      "metadata": {
        "id": "R7V70qsCeCxl",
        "outputId": "3166c951-ac33-4824-d8c9-49cdb8af6902",
        "colab": {
          "base_uri": "https://localhost:8080/"
        }
      },
      "execution_count": null,
      "outputs": [
        {
          "output_type": "stream",
          "name": "stdout",
          "text": [
            "Ivan\n"
          ]
        }
      ]
    },
    {
      "cell_type": "markdown",
      "source": [
        "#### 4. Выведите на экран несколько строк текста, каждая из которых отображается с новой строки."
      ],
      "metadata": {
        "id": "8q_iVvGed6VD"
      }
    },
    {
      "cell_type": "code",
      "source": [
        "print(\"Первая строка\\nВторая строка\\nТретья строка\\nЧетвёртая строка\")"
      ],
      "metadata": {
        "id": "5uFFGny2eC_7",
        "outputId": "122c0913-c6b0-4154-97d2-dad60173a3bc",
        "colab": {
          "base_uri": "https://localhost:8080/"
        }
      },
      "execution_count": null,
      "outputs": [
        {
          "output_type": "stream",
          "name": "stdout",
          "text": [
            "Первая строка\n",
            "Вторая строка\n",
            "Третья строка\n",
            "Четвёртая строка\n"
          ]
        }
      ]
    },
    {
      "cell_type": "markdown",
      "source": [
        "#### 5. Выведите результат математического выражения с использованием f-строк, например:\n",
        "\n",
        "   ```python\n",
        "   7 + 7 = 14\n",
        "   ```\n"
      ],
      "metadata": {
        "id": "ZwTwWIbpeO8B"
      }
    },
    {
      "cell_type": "code",
      "source": [
        "print(f\"7 + 7 = {7 + 7}\")"
      ],
      "metadata": {
        "id": "f7cGPh5reXb8",
        "outputId": "d122020d-a8cd-46d4-ed02-692bc5b48361",
        "colab": {
          "base_uri": "https://localhost:8080/"
        }
      },
      "execution_count": null,
      "outputs": [
        {
          "output_type": "stream",
          "name": "stdout",
          "text": [
            "7 + 7 = 14\n"
          ]
        }
      ]
    },
    {
      "cell_type": "markdown",
      "source": [
        "## **Блок заданий №2. Функция `input`**\n",
        "\n"
      ],
      "metadata": {
        "id": "YBCWUDzEdQcl"
      }
    },
    {
      "cell_type": "markdown",
      "source": [
        "#### 1. Запросите у пользователя три разных числа и выведите их произведение.\n"
      ],
      "metadata": {
        "id": "1JG7ncRffYpN"
      }
    },
    {
      "cell_type": "code",
      "source": [
        "a = int(input(\"Введите первое число: \"))\n",
        "b = int(input(\"Введите второе число: \"))\n",
        "c = int(input(\"Введите третье число: \"))\n",
        "\n",
        "result=a*b*c\n",
        "\n",
        "print(f\"Произведение: {a} * {b} * {c} = {result}\")"
      ],
      "metadata": {
        "id": "duI1IqytfZo3",
        "outputId": "89aec0ef-9701-4593-a4d9-13748073e548",
        "colab": {
          "base_uri": "https://localhost:8080/"
        }
      },
      "execution_count": null,
      "outputs": [
        {
          "output_type": "stream",
          "name": "stdout",
          "text": [
            "Введите первое число: 2\n",
            "Введите второе число: 3\n",
            "Введите третье число: 4\n",
            "Произведение: 2 * 3 * 4 = 24\n"
          ]
        }
      ]
    },
    {
      "cell_type": "markdown",
      "source": [
        "#### 2. Попросите пользователя ввести свое ФИО, а затем выведите фамилию и инициалы.\n"
      ],
      "metadata": {
        "id": "CGLKsG9yfXZf"
      }
    },
    {
      "cell_type": "code",
      "source": [
        "fio = input(\"Введите ФИО (Фамилия Имя Отчество): \")\n",
        "\n",
        "parts = fio.split()\n",
        "\n",
        "familiya = parts[0]\n",
        "imya_initial = parts[1][0]\n",
        "otchestvo_initial = parts[2][0]\n",
        "\n",
        "print(f\"{familiya} {imya_initial}.{otchestvo_initial}.\")"
      ],
      "metadata": {
        "id": "OhBXFkoffZ1l",
        "outputId": "9ff24844-fb3f-4304-bd30-c5faf6ff487f",
        "colab": {
          "base_uri": "https://localhost:8080/"
        }
      },
      "execution_count": null,
      "outputs": [
        {
          "output_type": "stream",
          "name": "stdout",
          "text": [
            "Введите ФИО (Фамилия Имя Отчество): Урлапов Иван Алексеевич\n",
            "Урлапов И.А.\n"
          ]
        }
      ]
    },
    {
      "cell_type": "markdown",
      "source": [
        "#### 3. Получите от пользователя строку и символ, затем определите, сколько раз этот символ встречается в строке.\n"
      ],
      "metadata": {
        "id": "FJd73_DSfWgf"
      }
    },
    {
      "cell_type": "code",
      "source": [
        "text = input(\"Введите строку: \")\n",
        "symbol = input(\"Введите символ для поиска: \")\n",
        "\n",
        "count = text.count(symbol)\n",
        "\n",
        "print(f\"Символ '{symbol}' встречается в строке {count} раз(а)\")"
      ],
      "metadata": {
        "id": "VAzbeJANfaAP",
        "outputId": "1f7a1ccc-df44-460e-a6a5-aca53d676230",
        "colab": {
          "base_uri": "https://localhost:8080/"
        }
      },
      "execution_count": null,
      "outputs": [
        {
          "output_type": "stream",
          "name": "stdout",
          "text": [
            "Введите строку: sdfdsfsdf\n",
            "Введите символ для поиска: s\n",
            "Символ 's' встречается в строке 3 раз(а)\n"
          ]
        }
      ]
    },
    {
      "cell_type": "markdown",
      "source": [
        "#### 4. Попросите пользователя ввести любимый цвет и выведите сообщение: **\"[Цвет] - красивый цвет!\"**.\n"
      ],
      "metadata": {
        "id": "ZY_cf1nbfVbo"
      }
    },
    {
      "cell_type": "code",
      "source": [
        "color = input(\"Введите ваш любимый цвет: \")\n",
        "\n",
        "print(f\"{color} - красивый цвет!\")"
      ],
      "metadata": {
        "id": "vVoFM74MfaMe",
        "outputId": "d8b77cef-6bae-4139-80bc-9dc99c1c0218",
        "colab": {
          "base_uri": "https://localhost:8080/"
        }
      },
      "execution_count": null,
      "outputs": [
        {
          "output_type": "stream",
          "name": "stdout",
          "text": [
            "Введите ваш любимый цвет: Синий\n",
            "Синий - красивый цвет!\n"
          ]
        }
      ]
    },
    {
      "cell_type": "markdown",
      "source": [
        "#### 5. Получите от пользователя строку и выведите ее длину."
      ],
      "metadata": {
        "id": "a6ekPIcOfUFK"
      }
    },
    {
      "cell_type": "code",
      "source": [
        "text = input(\"Введите строку: \")\n",
        "\n",
        "length = len(text)\n",
        "\n",
        "print(f\"Длина строки: {length}\")"
      ],
      "metadata": {
        "id": "psRmx_htfas2",
        "outputId": "1749afb9-d5ef-4509-ced0-1d5939a57fff",
        "colab": {
          "base_uri": "https://localhost:8080/"
        }
      },
      "execution_count": null,
      "outputs": [
        {
          "output_type": "stream",
          "name": "stdout",
          "text": [
            "Введите строку: аываываываыв\n",
            "Длина строки: 12\n"
          ]
        }
      ]
    },
    {
      "cell_type": "markdown",
      "source": [
        "## **Блок заданий №3. Тип данных `int`**"
      ],
      "metadata": {
        "id": "gQ99P3lxgEvA"
      }
    },
    {
      "cell_type": "markdown",
      "source": [
        "#### Тип данных `int`\n",
        "\n",
        "\n",
        "\n",
        "\n",
        "\n"
      ],
      "metadata": {
        "id": "c-pHmy5NctvU"
      }
    },
    {
      "cell_type": "markdown",
      "source": [
        "1. Создайте переменную типа `int`, присвойте ей значение **42** и выведите на экран."
      ],
      "metadata": {
        "id": "1YAKZCMuglIZ"
      }
    },
    {
      "cell_type": "code",
      "source": [
        "a=42\n",
        "print(a)"
      ],
      "metadata": {
        "id": "BpqJyc5GgmWz",
        "outputId": "0829174f-f5d7-4222-c25a-d35a4bee94ed",
        "colab": {
          "base_uri": "https://localhost:8080/"
        }
      },
      "execution_count": null,
      "outputs": [
        {
          "output_type": "stream",
          "name": "stdout",
          "text": [
            "42\n"
          ]
        }
      ]
    },
    {
      "cell_type": "markdown",
      "source": [
        "2. Вычислите и выведите результат выражения **(17 * 3) + (10 / 2)** в виде целого числа."
      ],
      "metadata": {
        "id": "J3FS1RtDgkCO"
      }
    },
    {
      "cell_type": "code",
      "source": [
        "result = (17 * 3) + (10 / 2)\n",
        "\n",
        "result_int = int(result)\n",
        "\n",
        "print(result_int)"
      ],
      "metadata": {
        "id": "YLIx8CCrgmkU",
        "outputId": "b257304c-3cc2-4e5a-fb23-0764d4540ff8",
        "colab": {
          "base_uri": "https://localhost:8080/"
        }
      },
      "execution_count": null,
      "outputs": [
        {
          "output_type": "stream",
          "name": "stdout",
          "text": [
            "56\n"
          ]
        }
      ]
    },
    {
      "cell_type": "markdown",
      "source": [
        "3. Преобразуйте строку **\"100\"** в целое число и добавьте к нему **25**."
      ],
      "metadata": {
        "id": "91x1Lb4tgier"
      }
    },
    {
      "cell_type": "code",
      "source": [
        "string_number = \"100\"\n",
        "integer_number = int(string_number)\n",
        "\n",
        "result = integer_number + 25\n",
        "\n",
        "print(result)"
      ],
      "metadata": {
        "id": "vmEIAy1CgmzH",
        "outputId": "e32ab0a5-ab0a-4e0a-a048-9c81328fd146",
        "colab": {
          "base_uri": "https://localhost:8080/"
        }
      },
      "execution_count": null,
      "outputs": [
        {
          "output_type": "stream",
          "name": "stdout",
          "text": [
            "125\n"
          ]
        }
      ]
    },
    {
      "cell_type": "markdown",
      "source": [
        "4. Проверьте тип переменной, которая хранит значение **7**, используя функцию `type()`."
      ],
      "metadata": {
        "id": "Ua_0A7teghG0"
      }
    },
    {
      "cell_type": "code",
      "source": [
        "number = 7\n",
        "\n",
        "print(type(number))"
      ],
      "metadata": {
        "id": "56_CnKgGgnFi",
        "outputId": "bbc2ba4a-42e6-4db7-ae35-6422e1b5e88c",
        "colab": {
          "base_uri": "https://localhost:8080/"
        }
      },
      "execution_count": null,
      "outputs": [
        {
          "output_type": "stream",
          "name": "stdout",
          "text": [
            "<class 'int'>\n"
          ]
        }
      ]
    },
    {
      "cell_type": "markdown",
      "source": [
        "5. Создайте две переменные целого типа, присвойте им значения и выведите их разницу."
      ],
      "metadata": {
        "id": "JxK0fU_Wgf8J"
      }
    },
    {
      "cell_type": "code",
      "source": [
        "number1 = 50\n",
        "number2 = 18\n",
        "\n",
        "difference = number1 - number2\n",
        "\n",
        "print(difference)"
      ],
      "metadata": {
        "id": "GFsY9xSkgnfv",
        "outputId": "f97b5930-5155-48a0-d9f6-a1c2ebf48ae7",
        "colab": {
          "base_uri": "https://localhost:8080/"
        }
      },
      "execution_count": null,
      "outputs": [
        {
          "output_type": "stream",
          "name": "stdout",
          "text": [
            "32\n"
          ]
        }
      ]
    },
    {
      "cell_type": "markdown",
      "source": [
        "## **Блок заданий №4. Тип данных `float`**"
      ],
      "metadata": {
        "id": "G-DskIxcg598"
      }
    },
    {
      "cell_type": "markdown",
      "source": [
        "#### 1. Запросите у пользователя вещественное число и выведите его квадрат.\n",
        "\n",
        "\n",
        "\n"
      ],
      "metadata": {
        "id": "W5liVT_kcwnQ"
      }
    },
    {
      "cell_type": "code",
      "source": [
        "number = float(input(\"Введите вещественное число: \"))\n",
        "\n",
        "square = number ** 2\n",
        "\n",
        "print(f\"Квадрат числа: {square}\")"
      ],
      "metadata": {
        "id": "S_i6OLwShHaH",
        "outputId": "ddac9b0d-1e4b-4606-e329-650b7820d456",
        "colab": {
          "base_uri": "https://localhost:8080/"
        }
      },
      "execution_count": null,
      "outputs": [
        {
          "output_type": "stream",
          "name": "stdout",
          "text": [
            "Введите вещественное число: 24.3\n",
            "Квадрат числа: 590.49\n"
          ]
        }
      ]
    },
    {
      "cell_type": "markdown",
      "source": [
        "#### 2. Запросите у пользователя вещественное число и округлите его до двух знаков после запятой."
      ],
      "metadata": {
        "id": "rcXGDx7FhGZ7"
      }
    },
    {
      "cell_type": "code",
      "source": [
        "number = float(input(\"Введите вещественное число: \"))\n",
        "\n",
        "rounded_number = round(number, 2)\n",
        "\n",
        "print(f\"Округленное число: {rounded_number}\")"
      ],
      "metadata": {
        "id": "W534mNlphHoW"
      },
      "execution_count": null,
      "outputs": []
    },
    {
      "cell_type": "markdown",
      "source": [
        "#### 3. Сложите два числа с плавающей точкой: **2.5** и **4.7**, выведите результат."
      ],
      "metadata": {
        "id": "2HZIMG65hEwD"
      }
    },
    {
      "cell_type": "code",
      "source": [
        "number1 = 2.5\n",
        "number2 = 4.7\n",
        "\n",
        "result = number1 + number2\n",
        "\n",
        "print(result)"
      ],
      "metadata": {
        "id": "tNhoDLUqhH-Q"
      },
      "execution_count": null,
      "outputs": []
    },
    {
      "cell_type": "markdown",
      "source": [
        "#### 4. Преобразуйте градусы Цельсия, введенные пользователем, в Фаренгейты по формуле `F = C * 9/5 + 32`."
      ],
      "metadata": {
        "id": "lbX1tt0_hDlr"
      }
    },
    {
      "cell_type": "code",
      "source": [
        "celsius = float(input(\"Введите температуру в градусах Цельсия: \"))\n",
        "\n",
        "fahrenheit = celsius * 9/5 + 32\n",
        "\n",
        "print(f\"{celsius}°C = {fahrenheit}°F\")"
      ],
      "metadata": {
        "id": "tjYR7aRHhILq",
        "outputId": "342e672a-4dcf-4a48-c2d1-e165351cf0ca",
        "colab": {
          "base_uri": "https://localhost:8080/"
        }
      },
      "execution_count": null,
      "outputs": [
        {
          "output_type": "stream",
          "name": "stdout",
          "text": [
            "Введите температуру в градусах Цельсия: 32\n",
            "32.0°C = 89.6°F\n"
          ]
        }
      ]
    },
    {
      "cell_type": "markdown",
      "source": [
        "#### 5. Получите от пользователя длину и ширину прямоугольника, вычислите его площадь и периметр."
      ],
      "metadata": {
        "id": "RhghSwthhCPJ"
      }
    },
    {
      "cell_type": "code",
      "source": [
        "length = float(input(\"Введите длину прямоугольника: \"))\n",
        "width = float(input(\"Введите ширину прямоугольника: \"))\n",
        "\n",
        "area = length * width\n",
        "perimeter = 2 * (length + width)\n",
        "\n",
        "print(f\"Площадь прямоугольника: {area}\")\n",
        "print(f\"Периметр прямоугольника: {perimeter}\")"
      ],
      "metadata": {
        "id": "GjKTKXmZhIaN",
        "outputId": "9c0fc6c9-3641-49e8-d918-49ee1650329c",
        "colab": {
          "base_uri": "https://localhost:8080/"
        }
      },
      "execution_count": null,
      "outputs": [
        {
          "output_type": "stream",
          "name": "stdout",
          "text": [
            "Введите длину прямоугольника: 12\n",
            "Введите ширину прямоугольника: 32\n",
            "Площадь прямоугольника: 384.0\n",
            "Периметр прямоугольника: 88.0\n"
          ]
        }
      ]
    },
    {
      "cell_type": "markdown",
      "source": [
        "## **Блок заданий №5. Тип данных `str`**"
      ],
      "metadata": {
        "id": "CslTMbtXiWOP"
      }
    },
    {
      "cell_type": "markdown",
      "source": [
        "####1. Создайте строку **\"Python - самый популярный язык программирования\"** и выведите ее.\n"
      ],
      "metadata": {
        "id": "KUmla5cCieae"
      }
    },
    {
      "cell_type": "code",
      "source": [
        "my_str='Python - самый популярный язык программирования'\n",
        "print(my_str)"
      ],
      "metadata": {
        "id": "Q7kHloVXlMVB",
        "outputId": "2bcd3ae3-8706-458d-92b7-5c0d872788c5",
        "colab": {
          "base_uri": "https://localhost:8080/"
        }
      },
      "execution_count": null,
      "outputs": [
        {
          "output_type": "stream",
          "name": "stdout",
          "text": [
            "Python - самый популярный язык программирования\n"
          ]
        }
      ]
    },
    {
      "cell_type": "markdown",
      "source": [
        "####2. Выведите первый и последний символы строки **\"Привет, мир!\"**."
      ],
      "metadata": {
        "id": "ypQL09raiehN"
      }
    },
    {
      "cell_type": "code",
      "source": [
        "text = \"Привет, мир!\"\n",
        "\n",
        "first_char = text[0]\n",
        "last_char = text[-1]\n",
        "\n",
        "print(f\"Первый символ: {first_char}\")\n",
        "print(f\"Последний символ: {last_char}\")"
      ],
      "metadata": {
        "id": "iVU99HAUlMpC",
        "outputId": "73e00aab-9df8-4d51-a21c-95cc2d21defd",
        "colab": {
          "base_uri": "https://localhost:8080/"
        }
      },
      "execution_count": null,
      "outputs": [
        {
          "output_type": "stream",
          "name": "stdout",
          "text": [
            "Первый символ: П\n",
            "Последний символ: !\n"
          ]
        }
      ]
    },
    {
      "cell_type": "markdown",
      "source": [
        "####3. Соедините три строки: **\"МИИГАиК - \"** , **\"Лучший \"**, **\"ВУЗ!\"** выведите результат."
      ],
      "metadata": {
        "id": "XxKbQhFkiw83"
      }
    },
    {
      "cell_type": "code",
      "source": [
        "str1 = \"МИИГАиК - \"\n",
        "str2 = \"Лучший \"\n",
        "str3 = \"ВУЗ!\"\n",
        "\n",
        "result = str1 + str2 + str3\n",
        "\n",
        "print(result)"
      ],
      "metadata": {
        "id": "4amk_NcnlM3T",
        "outputId": "44353e8d-38a2-4261-9aa6-53b989851116",
        "colab": {
          "base_uri": "https://localhost:8080/"
        }
      },
      "execution_count": null,
      "outputs": [
        {
          "output_type": "stream",
          "name": "stdout",
          "text": [
            "МИИГАиК - Лучший ВУЗ!\n"
          ]
        }
      ]
    },
    {
      "cell_type": "markdown",
      "source": [
        "####4. Преобразуйте строку **\"12345\"** в число и выведите тип полученного значения.\n"
      ],
      "metadata": {
        "id": "MXOJX4g8ieoI"
      }
    },
    {
      "cell_type": "code",
      "source": [
        "string_number = \"12345\"\n",
        "\n",
        "number = int(string_number)\n",
        "\n",
        "print(f\"Число: {number}\")\n",
        "print(f\"Тип: {type(number)}\")"
      ],
      "metadata": {
        "id": "t6Wvy7CZlNM2",
        "outputId": "174156aa-4aa4-4c3d-921d-2c3a1c21023d",
        "colab": {
          "base_uri": "https://localhost:8080/"
        }
      },
      "execution_count": null,
      "outputs": [
        {
          "output_type": "stream",
          "name": "stdout",
          "text": [
            "Число: 12345\n",
            "Тип: <class 'int'>\n"
          ]
        }
      ]
    },
    {
      "cell_type": "markdown",
      "source": [
        "####5. Сделайте все буквы строки **\"python is Fun\"** заглавными и выведите результат."
      ],
      "metadata": {
        "id": "hhBQ-8gMc0Li"
      }
    },
    {
      "cell_type": "code",
      "source": [
        "text = \"python is Fun\"\n",
        "\n",
        "uppercase_text = text.upper()\n",
        "\n",
        "print(uppercase_text)"
      ],
      "metadata": {
        "id": "n3KLT91zlNgY",
        "outputId": "17b8b9b5-0e3e-42d9-ed6e-b42223906bcc",
        "colab": {
          "base_uri": "https://localhost:8080/"
        }
      },
      "execution_count": null,
      "outputs": [
        {
          "output_type": "stream",
          "name": "stdout",
          "text": [
            "PYTHON IS FUN\n"
          ]
        }
      ]
    },
    {
      "cell_type": "markdown",
      "source": [
        "## **Блок заданий №6. Тип данных `list`**"
      ],
      "metadata": {
        "id": "ud5LmPUPlXND"
      }
    },
    {
      "cell_type": "markdown",
      "source": [
        "####1. Создайте список из чисел **[10, 20, 30, 40, 50]** и выведите его.\n"
      ],
      "metadata": {
        "id": "ZDkNefxXlXND"
      }
    },
    {
      "cell_type": "code",
      "source": [
        "numbers = [10, 20, 30, 40, 50]\n",
        "\n",
        "print(numbers)"
      ],
      "metadata": {
        "id": "G6fH9gBLlzI2",
        "outputId": "1772bbe8-20db-4f51-a4c5-3283de1cd712",
        "colab": {
          "base_uri": "https://localhost:8080/"
        }
      },
      "execution_count": null,
      "outputs": [
        {
          "output_type": "stream",
          "name": "stdout",
          "text": [
            "[10, 20, 30, 40, 50]\n"
          ]
        }
      ]
    },
    {
      "cell_type": "markdown",
      "source": [
        "####2. Добавьте в список строку **\"новый элемент\"** и выведите обновленный список.\n"
      ],
      "metadata": {
        "id": "oDUtdPi-lo7n"
      }
    },
    {
      "cell_type": "code",
      "source": [
        "numbers = [10, 20, 30, 40, 50]\n",
        "\n",
        "numbers.append(\"новый элемент\")\n",
        "\n",
        "print(numbers)"
      ],
      "metadata": {
        "id": "6QhNXffflzXT",
        "outputId": "590cc34f-8536-47b3-baaf-d40ba368c2c4",
        "colab": {
          "base_uri": "https://localhost:8080/"
        }
      },
      "execution_count": null,
      "outputs": [
        {
          "output_type": "stream",
          "name": "stdout",
          "text": [
            "[10, 20, 30, 40, 50, 'новый элемент']\n"
          ]
        }
      ]
    },
    {
      "cell_type": "markdown",
      "source": [
        "####3. Из списка `['python', 'java', 'c++', 'ruby', 'perl']` выведите элементы с 2-го по 4-й включительно.\n"
      ],
      "metadata": {
        "id": "BZlOVdc4lo-O"
      }
    },
    {
      "cell_type": "code",
      "source": [
        "languages = ['python', 'java', 'c++', 'ruby', 'perl']\n",
        "\n",
        "result = languages[1:4]\n",
        "\n",
        "print(result)"
      ],
      "metadata": {
        "id": "lU12ExUElzjH",
        "outputId": "acdb43b0-9148-40c4-b827-35be18941006",
        "colab": {
          "base_uri": "https://localhost:8080/"
        }
      },
      "execution_count": null,
      "outputs": [
        {
          "output_type": "stream",
          "name": "stdout",
          "text": [
            "['java', 'c++', 'ruby']\n"
          ]
        }
      ]
    },
    {
      "cell_type": "markdown",
      "source": [
        "####4. Создайте пустой список, добавьте в него три любых значения и выведите итоговый список.\n"
      ],
      "metadata": {
        "id": "0dZPxhU_lpCN"
      }
    },
    {
      "cell_type": "code",
      "source": [
        "my_list = []\n",
        "\n",
        "my_list.append(10)\n",
        "my_list.append(\"Python\")\n",
        "my_list.append(3.14)\n",
        "\n",
        "print(my_list)"
      ],
      "metadata": {
        "id": "pRQ1BHKUlzud"
      },
      "execution_count": null,
      "outputs": []
    },
    {
      "cell_type": "markdown",
      "source": [
        "####5. Измените второй элемент списка **[1, 2, 3, 4, 5]** на число **200** и выведите список."
      ],
      "metadata": {
        "id": "o104mH_plpJl"
      }
    },
    {
      "cell_type": "code",
      "source": [
        "numbers = [1, 2, 3, 4, 5]\n",
        "\n",
        "numbers[1] = 200\n",
        "\n",
        "print(numbers)"
      ],
      "metadata": {
        "id": "ur_sqeAYlz-0",
        "outputId": "2b9b3029-8e77-48cf-85dc-21a4238633bd",
        "colab": {
          "base_uri": "https://localhost:8080/"
        }
      },
      "execution_count": null,
      "outputs": [
        {
          "output_type": "stream",
          "name": "stdout",
          "text": [
            "[1, 200, 3, 4, 5]\n"
          ]
        }
      ]
    },
    {
      "cell_type": "markdown",
      "source": [
        "## **Блок заданий №7. Тип данных `tuple`**"
      ],
      "metadata": {
        "id": "w7lcJPx9mhLe"
      }
    },
    {
      "cell_type": "markdown",
      "source": [
        "####1. Создайте кортеж из чисел **(1, 2, 3, 4, 5)** и выведите его на экран.\n"
      ],
      "metadata": {
        "id": "HqmF9aMWmeon"
      }
    },
    {
      "cell_type": "code",
      "source": [
        "numbers = (1, 2, 3, 4, 5)\n",
        "\n",
        "print(numbers)"
      ],
      "metadata": {
        "id": "hGuk1KfHn7V7",
        "outputId": "7be54ec1-c2dd-47a7-c4ab-a698d2fac189",
        "colab": {
          "base_uri": "https://localhost:8080/"
        }
      },
      "execution_count": null,
      "outputs": [
        {
          "output_type": "stream",
          "name": "stdout",
          "text": [
            "(1, 2, 3, 4, 5)\n"
          ]
        }
      ]
    },
    {
      "cell_type": "markdown",
      "source": [
        "####2. Попробуйте изменить первый элемент кортежа и объясните в комментариях к программе, что произошло.\n"
      ],
      "metadata": {
        "id": "_QQf4g6gmerF"
      }
    },
    {
      "cell_type": "code",
      "source": [
        "my_tuple = (1, 2, 3, 4, 5)\n",
        "my_tuple[0] = 100\n",
        "# Получаем ошибку при попытке изменения неизменяемого объекта\n"
      ],
      "metadata": {
        "id": "sZcbKwV_n7vA",
        "outputId": "2baa57a6-6aa0-4428-cf8f-56b19c8cd0f3",
        "colab": {
          "base_uri": "https://localhost:8080/",
          "height": 162
        }
      },
      "execution_count": null,
      "outputs": [
        {
          "output_type": "error",
          "ename": "TypeError",
          "evalue": "'tuple' object does not support item assignment",
          "traceback": [
            "\u001b[0;31m---------------------------------------------------------------------------\u001b[0m",
            "\u001b[0;31mTypeError\u001b[0m                                 Traceback (most recent call last)",
            "\u001b[0;32m/tmp/ipython-input-2019692341.py\u001b[0m in \u001b[0;36m<cell line: 0>\u001b[0;34m()\u001b[0m\n\u001b[1;32m      1\u001b[0m \u001b[0mmy_tuple\u001b[0m \u001b[0;34m=\u001b[0m \u001b[0;34m(\u001b[0m\u001b[0;36m1\u001b[0m\u001b[0;34m,\u001b[0m \u001b[0;36m2\u001b[0m\u001b[0;34m,\u001b[0m \u001b[0;36m3\u001b[0m\u001b[0;34m,\u001b[0m \u001b[0;36m4\u001b[0m\u001b[0;34m,\u001b[0m \u001b[0;36m5\u001b[0m\u001b[0;34m)\u001b[0m\u001b[0;34m\u001b[0m\u001b[0;34m\u001b[0m\u001b[0m\n\u001b[0;32m----> 2\u001b[0;31m \u001b[0mmy_tuple\u001b[0m\u001b[0;34m[\u001b[0m\u001b[0;36m0\u001b[0m\u001b[0;34m]\u001b[0m \u001b[0;34m=\u001b[0m \u001b[0;36m100\u001b[0m\u001b[0;34m\u001b[0m\u001b[0;34m\u001b[0m\u001b[0m\n\u001b[0m",
            "\u001b[0;31mTypeError\u001b[0m: 'tuple' object does not support item assignment"
          ]
        }
      ]
    },
    {
      "cell_type": "markdown",
      "source": [
        "####3. Преобразуйте кортеж в строку и выведите результат.\n"
      ],
      "metadata": {
        "id": "6fMHK5femevO"
      }
    },
    {
      "cell_type": "code",
      "source": [
        "my_tuple = ('П', 'р', 'и', 'в', 'е', 'т')\n",
        "\n",
        "result = ''.join(my_tuple)\n",
        "\n",
        "print(\"Исходный кортеж:\", my_tuple)\n",
        "print(\"Строка:\", result)"
      ],
      "metadata": {
        "id": "AudeNNOin77h",
        "outputId": "224f07da-0ac9-4aa6-b314-ed95b03acd77",
        "colab": {
          "base_uri": "https://localhost:8080/"
        }
      },
      "execution_count": null,
      "outputs": [
        {
          "output_type": "stream",
          "name": "stdout",
          "text": [
            "Исходный кортеж: ('П', 'р', 'и', 'в', 'е', 'т')\n",
            "Строка: Привет\n"
          ]
        }
      ]
    },
    {
      "cell_type": "markdown",
      "source": [
        "####4. Проверьте, содержится ли определенный элемент в кортеже, выведите соответствующее сообщение.\n"
      ],
      "metadata": {
        "id": "HOOFXQYtmeyG"
      }
    },
    {
      "cell_type": "code",
      "source": [
        "my_tuple = (1, 2, 3, 4, 5)\n",
        "\n",
        "element = 3\n",
        "\n",
        "if element in my_tuple:\n",
        "    print(f\"Элемент {element} содержится в кортеже\")\n",
        "else:\n",
        "    print(f\"Элемент {element} не найден в кортеже\")"
      ],
      "metadata": {
        "id": "PlPkzGCon8N2",
        "outputId": "3b6102cc-3512-47cb-fbac-9b6aa92beddf",
        "colab": {
          "base_uri": "https://localhost:8080/"
        }
      },
      "execution_count": null,
      "outputs": [
        {
          "output_type": "stream",
          "name": "stdout",
          "text": [
            "Элемент 3 содержится в кортеже\n"
          ]
        }
      ]
    },
    {
      "cell_type": "markdown",
      "source": [
        "####5. Создайте кортеж, состоящий из нескольких одинаковых элементов, и найдите их количество с помощью метода `count()`.\n"
      ],
      "metadata": {
        "id": "HSi5wD3xme3I"
      }
    },
    {
      "cell_type": "code",
      "source": [
        "my_tuple = (1, 2, 3, 2, 4, 2, 5, 2, 6)\n",
        "\n",
        "count = my_tuple.count(2)\n",
        "\n",
        "print(\"Кортеж:\", my_tuple)\n",
        "print(f\"Количество элементов '2': {count}\")"
      ],
      "metadata": {
        "id": "G5eyJNkZn8aw",
        "colab": {
          "base_uri": "https://localhost:8080/"
        },
        "outputId": "8122d0aa-081a-4a9f-bdcf-b65e09a581de"
      },
      "execution_count": null,
      "outputs": [
        {
          "output_type": "stream",
          "name": "stdout",
          "text": [
            "Кортеж: (1, 2, 3, 2, 4, 2, 5, 2, 6)\n",
            "Количество элементов '2': 4\n"
          ]
        }
      ]
    },
    {
      "cell_type": "markdown",
      "source": [
        "## **Блок заданий №8. Тип данных `dict`**"
      ],
      "metadata": {
        "id": "v7nByOSzn6Gs"
      }
    },
    {
      "cell_type": "markdown",
      "source": [
        "####1. Создайте словарь с данными о себе: ключи **\"имя\"**, **\"возраст\"**, **\"город\"**; выведите его.\n"
      ],
      "metadata": {
        "id": "SdH7l87WoNxs"
      }
    },
    {
      "cell_type": "code",
      "source": [
        "person = {\n",
        "    \"имя\": \"Иван\",\n",
        "    \"возраст\": 22,\n",
        "    \"город\": \"Москва\"\n",
        "}\n",
        "\n",
        "print(person)"
      ],
      "metadata": {
        "id": "G_5mPREsoO__",
        "outputId": "449bcfcb-a98f-4636-eb0f-0925dd246bc4",
        "colab": {
          "base_uri": "https://localhost:8080/"
        }
      },
      "execution_count": null,
      "outputs": [
        {
          "output_type": "stream",
          "name": "stdout",
          "text": [
            "{'имя': 'Иван', 'возраст': 22, 'город': 'Москва'}\n"
          ]
        }
      ]
    },
    {
      "cell_type": "markdown",
      "source": [
        "####2. Выведите значение по ключу **\"имя\"** из созданного словаря.\n"
      ],
      "metadata": {
        "id": "nsoYMyesoMxq"
      }
    },
    {
      "cell_type": "code",
      "source": [
        "person = {\n",
        "    \"имя\": \"Иван\",\n",
        "    \"возраст\": 22,\n",
        "    \"город\": \"Москва\"\n",
        "}\n",
        "\n",
        "name = person[\"имя\"]\n",
        "\n",
        "print(name)"
      ],
      "metadata": {
        "id": "OL_waQuioPSG",
        "outputId": "c042842c-1ab4-4c82-a079-26c6e0d45e49",
        "colab": {
          "base_uri": "https://localhost:8080/"
        }
      },
      "execution_count": null,
      "outputs": [
        {
          "output_type": "stream",
          "name": "stdout",
          "text": [
            "Иван\n"
          ]
        }
      ]
    },
    {
      "cell_type": "markdown",
      "source": [
        "####3. Добавьте в словарь новый ключ **\"профессия\"** со значением и выведите словарь.\n"
      ],
      "metadata": {
        "id": "0T_miCFjoLhI"
      }
    },
    {
      "cell_type": "code",
      "source": [
        "person = {\n",
        "    \"имя\": \"Иван\",\n",
        "    \"возраст\": 22,\n",
        "    \"город\": \"Москва\"\n",
        "}\n",
        "\n",
        "print(\"Словарь до добавления:\")\n",
        "print(person)\n",
        "\n",
        "person[\"профессия\"] = \"Картограф\"\n",
        "\n",
        "print(\"\\nСловарь после добавления:\")\n",
        "print(person)"
      ],
      "metadata": {
        "id": "5LOqyJAHoPfn",
        "outputId": "6497d480-2f61-40b3-f9fd-f15ca3bf9a87",
        "colab": {
          "base_uri": "https://localhost:8080/"
        }
      },
      "execution_count": null,
      "outputs": [
        {
          "output_type": "stream",
          "name": "stdout",
          "text": [
            "Словарь до добавления:\n",
            "{'имя': 'Иван', 'возраст': 22, 'город': 'Москва'}\n",
            "\n",
            "Словарь после добавления:\n",
            "{'имя': 'Иван', 'возраст': 22, 'город': 'Москва', 'профессия': 'Картограф'}\n"
          ]
        }
      ]
    },
    {
      "cell_type": "markdown",
      "source": [
        "####4. Удалите из словаря ключ **\"город\"** и выведите обновленный словарь.\n"
      ],
      "metadata": {
        "id": "QPwxJK74oKZ3"
      }
    },
    {
      "cell_type": "code",
      "source": [
        "person = {\n",
        "    \"имя\": \"Иван\",\n",
        "    \"возраст\": 22,\n",
        "    \"город\": \"Москва\",\n",
        "    \"профессия\": \"Программист\"\n",
        "}\n",
        "\n",
        "print(\"Словарь до удаления:\")\n",
        "print(person)\n",
        "\n",
        "del person[\"город\"]\n",
        "\n",
        "print(\"\\nСловарь после удаления:\")\n",
        "print(person)"
      ],
      "metadata": {
        "id": "3dPMpP1koPrR",
        "outputId": "4e41a1b3-8e5e-4c90-9878-8e18ce02819f",
        "colab": {
          "base_uri": "https://localhost:8080/"
        }
      },
      "execution_count": null,
      "outputs": [
        {
          "output_type": "stream",
          "name": "stdout",
          "text": [
            "Словарь до удаления:\n",
            "{'имя': 'Иван', 'возраст': 22, 'город': 'Москва', 'профессия': 'Программист'}\n",
            "\n",
            "Словарь после удаления:\n",
            "{'имя': 'Иван', 'возраст': 22, 'профессия': 'Программист'}\n"
          ]
        }
      ]
    },
    {
      "cell_type": "markdown",
      "source": [
        "####5. Создайте пустой словарь и добавьте в него пару ключ-значение, введенных пользователем."
      ],
      "metadata": {
        "id": "7UDgxikGoJXz"
      }
    },
    {
      "cell_type": "code",
      "source": [
        "my_dict = {}\n",
        "\n",
        "key = input(\"Введите ключ: \")\n",
        "value = input(\"Введите значение: \")\n",
        "\n",
        "my_dict[key] = value\n",
        "\n",
        "print(\"\\nСоздан словарь:\")\n",
        "print(my_dict)"
      ],
      "metadata": {
        "id": "AofDComvoP2d",
        "outputId": "2a65fa38-9aca-40a4-8fdf-6247310c24ca",
        "colab": {
          "base_uri": "https://localhost:8080/"
        }
      },
      "execution_count": null,
      "outputs": [
        {
          "output_type": "stream",
          "name": "stdout",
          "text": [
            "Введите ключ: имя\n",
            "Введите значение: Иван\n",
            "\n",
            "Создан словарь:\n",
            "{'имя': 'Иван'}\n"
          ]
        }
      ]
    }
  ]
}